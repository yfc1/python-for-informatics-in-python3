{
 "cells": [
  {
   "cell_type": "markdown",
   "metadata": {},
   "source": [
    "## Chapter 9 Dictionary"
   ]
  },
  {
   "cell_type": "markdown",
   "metadata": {},
   "source": [
    "like a list, with key and value using{}\n",
    "\n",
    "key-value pair\n",
    "\n",
    "items"
   ]
  },
  {
   "cell_type": "code",
   "execution_count": 1,
   "metadata": {},
   "outputs": [
    {
     "name": "stdout",
     "output_type": "stream",
     "text": [
      "{}\n"
     ]
    }
   ],
   "source": [
    "eng2sp=dict()\n",
    "print(eng2sp)"
   ]
  },
  {
   "cell_type": "code",
   "execution_count": 2,
   "metadata": {},
   "outputs": [
    {
     "name": "stdout",
     "output_type": "stream",
     "text": [
      "{'one': 'uno'}\n"
     ]
    }
   ],
   "source": [
    "eng2sp['one']='uno'\n",
    "print(eng2sp)"
   ]
  },
  {
   "cell_type": "code",
   "execution_count": 3,
   "metadata": {},
   "outputs": [
    {
     "name": "stdout",
     "output_type": "stream",
     "text": [
      "{'one': 'uno', 'two': 'dos', 'three': 'tres'}\n"
     ]
    }
   ],
   "source": [
    "eng2sp['two']='dos'\n",
    "eng2sp['three']='tres'\n",
    "print(eng2sp)"
   ]
  },
  {
   "cell_type": "code",
   "execution_count": 4,
   "metadata": {},
   "outputs": [
    {
     "name": "stdout",
     "output_type": "stream",
     "text": [
      "dos\n"
     ]
    }
   ],
   "source": [
    "print(eng2sp['two'])"
   ]
  },
  {
   "cell_type": "code",
   "execution_count": 5,
   "metadata": {},
   "outputs": [
    {
     "data": {
      "text/plain": [
       "3"
      ]
     },
     "execution_count": 5,
     "metadata": {},
     "output_type": "execute_result"
    }
   ],
   "source": [
    "len(eng2sp)"
   ]
  },
  {
   "cell_type": "code",
   "execution_count": 7,
   "metadata": {},
   "outputs": [
    {
     "data": {
      "text/plain": [
       "True"
      ]
     },
     "execution_count": 7,
     "metadata": {},
     "output_type": "execute_result"
    }
   ],
   "source": [
    "'one' in eng2sp"
   ]
  },
  {
   "cell_type": "code",
   "execution_count": 8,
   "metadata": {},
   "outputs": [
    {
     "data": {
      "text/plain": [
       "False"
      ]
     },
     "execution_count": 8,
     "metadata": {},
     "output_type": "execute_result"
    }
   ],
   "source": [
    "'uno' in eng2sp"
   ]
  },
  {
   "cell_type": "code",
   "execution_count": 9,
   "metadata": {},
   "outputs": [
    {
     "data": {
      "text/plain": [
       "True"
      ]
     },
     "execution_count": 9,
     "metadata": {},
     "output_type": "execute_result"
    }
   ],
   "source": [
    "val=eng2sp.values()\n",
    "'uno' in val"
   ]
  },
  {
   "cell_type": "code",
   "execution_count": 13,
   "metadata": {},
   "outputs": [
    {
     "name": "stdout",
     "output_type": "stream",
     "text": [
      "{'Writing': 0, 'programs': 0, 'or': 0, 'programming': 0, 'is': 0, 'a': 0, 'very': 0, 'creative': 0, 'and': 0, 'rewarding': 0, 'activity': 0, 'You': 0, 'can': 0, 'write': 0, 'for': 0, 'many': 0, 'reasons': 0, 'ranging': 0, 'from': 0, 'making': 0, 'your': 0, 'living': 0, 'to': 0, 'solving': 0, 'difficult': 0, 'data': 0, 'analysis': 0, 'problem': 0, 'having': 0, 'fun': 0, 'helping': 0, 'someone': 0, 'else': 0, 'solve': 0, 'This': 0, 'book': 0, 'assumes': 0, 'that': 0, '{\\\\em': 0, 'everyone}': 0, 'needs': 0, 'know': 0, 'how': 0, 'program': 0, 'once': 0, 'you': 0, 'program,': 0, 'will': 0, 'figure': 0, 'out': 0, 'what': 0, 'want': 0, 'do': 0, 'with': 0, 'newfound': 0, 'skills': 0, 'We': 0, 'are': 0, 'surrounded': 0, 'in': 0, 'our': 0, 'daily': 0, 'lives': 0, 'computers': 0, 'laptops': 0, 'cell': 0, 'phones': 0, 'think': 0, 'of': 0, 'these': 0, 'as': 0, 'personal': 0, 'assistants': 0, 'who': 0, 'take': 0, 'care': 0, 'things': 0, 'on': 0, 'behalf': 0, 'The': 0, 'hardware': 0, 'current-day': 0, 'essentially': 0, 'built': 0, 'continuously': 0, 'ask': 0, 'us': 0, 'the': 0, 'question': 0, 'What': 0, 'would': 0, 'like': 0, 'me': 0, 'next': 0, 'Our': 0, 'fast': 0, 'have': 0, 'vasts': 0, 'amounts': 0, 'memory': 0, 'could': 0, 'be': 0, 'helpful': 0, 'if': 0, 'we': 0, 'only': 0, 'knew': 0, 'language': 0, 'speak': 0, 'explain': 0, 'computer': 0, 'it': 0, 'If': 0, 'this': 0, 'tell': 0, 'tasks': 0, 'were': 0, 'reptitive': 0, 'Interestingly,': 0, 'kinds': 0, 'best': 0, 'often': 0, 'humans': 0, 'find': 0, 'boring': 0, 'mind-numbing': 0}\n"
     ]
    }
   ],
   "source": [
    "#exercise 9.1\n",
    "fhand=open('words.txt','r')\n",
    "text=fhand.read()\n",
    "words=text.split()\n",
    "d=dict()\n",
    "for word in words:\n",
    "    d[word]=d.get(word,0)\n",
    "print(d)"
   ]
  },
  {
   "cell_type": "code",
   "execution_count": 14,
   "metadata": {},
   "outputs": [
    {
     "name": "stdout",
     "output_type": "stream",
     "text": [
      "{'b': 1, 'r': 2, 'o': 2, 'n': 1, 't': 1, 's': 2, 'a': 1, 'u': 2}\n"
     ]
    }
   ],
   "source": [
    "#dictionary as a set of counters\n",
    "word='brontosaurus'\n",
    "d=dict()\n",
    "for letter in word:\n",
    "    if letter not in d:\n",
    "        d[letter]=1\n",
    "    else:\n",
    "        d[letter]=d[letter]+1\n",
    "print(d)"
   ]
  },
  {
   "cell_type": "code",
   "execution_count": 15,
   "metadata": {},
   "outputs": [
    {
     "name": "stdout",
     "output_type": "stream",
     "text": [
      "100\n",
      "0\n"
     ]
    }
   ],
   "source": [
    "#method:get takes a key and a default value\n",
    "counts={'chuck':1,'annie':42,'jan':100}\n",
    "print(counts.get('jan',0)) #if it is in the dictionary return the value\n",
    "print(counts.get('tim',0))# if it is not return default value 0"
   ]
  },
  {
   "cell_type": "code",
   "execution_count": 16,
   "metadata": {},
   "outputs": [
    {
     "name": "stdout",
     "output_type": "stream",
     "text": [
      "{'b': 1, 'r': 2, 'o': 2, 'n': 1, 't': 1, 's': 2, 'a': 1, 'u': 2}\n"
     ]
    }
   ],
   "source": [
    "word='brontosaurus'\n",
    "d=dict()\n",
    "for letter in word:\n",
    "    d[letter]=d.get(letter,0)+1\n",
    "print(d)"
   ]
  },
  {
   "cell_type": "code",
   "execution_count": 18,
   "metadata": {},
   "outputs": [
    {
     "name": "stdout",
     "output_type": "stream",
     "text": [
      "{'But': 1, 'soft': 1, 'what': 1, 'light': 1, 'through': 1, 'yonder': 1, 'window': 1, 'breaks': 1, 'It': 1, 'is': 3, 'the': 3, 'east': 1, 'and': 3, 'Juliet': 1, 'sun': 2, 'Arise': 1, 'fair': 1, 'kill': 1, 'envious': 1, 'moon': 1, 'Who': 1, 'already': 1, 'sick': 1, 'pale': 1, 'with': 1, 'grief': 1}\n"
     ]
    }
   ],
   "source": [
    "#Dictionaries and files\n",
    "#One of the most common use is to count the occurrence of words in a file\n",
    "#the file removed all the punctuation\n",
    "fhand=open('romeo.txt')\n",
    "counts=dict()\n",
    "for line in fhand:\n",
    "    words=line.split()\n",
    "    for word in words:\n",
    "        if word not in counts:\n",
    "            counts[word]=1\n",
    "        else:\n",
    "            counts[word]+=1\n",
    "print(counts)"
   ]
  },
  {
   "cell_type": "code",
   "execution_count": 21,
   "metadata": {},
   "outputs": [
    {
     "name": "stdout",
     "output_type": "stream",
     "text": [
      "{'But': 1, 'soft': 1, 'what': 1, 'light': 1, 'through': 1, 'yonder': 1, 'window': 1, 'breaks': 1, 'It': 1, 'is': 3, 'the': 3, 'east': 1, 'and': 3, 'Juliet': 1, 'sun': 2, 'Arise': 1, 'fair': 1, 'kill': 1, 'envious': 1, 'moon': 1, 'Who': 1, 'already': 1, 'sick': 1, 'pale': 1, 'with': 1, 'grief': 1}\n"
     ]
    }
   ],
   "source": [
    "#using get to solve same problem\n",
    "fhand=open('romeo.txt')\n",
    "counts=dict()\n",
    "for line in fhand:\n",
    "    words=line.split()\n",
    "    for word in words:\n",
    "        counts[word]=counts.get(word,0)+1\n",
    "        \n",
    "print(counts)"
   ]
  },
  {
   "cell_type": "code",
   "execution_count": 22,
   "metadata": {},
   "outputs": [
    {
     "data": {
      "text/plain": [
       "'!\"#$%&\\'()*+,-./:;<=>?@[\\\\]^_`{|}~'"
      ]
     },
     "execution_count": 22,
     "metadata": {},
     "output_type": "execute_result"
    }
   ],
   "source": [
    "#use string to remove punctuation\n",
    "import string\n",
    "string.punctuation"
   ]
  },
  {
   "cell_type": "code",
   "execution_count": 29,
   "metadata": {},
   "outputs": [
    {
     "name": "stdout",
     "output_type": "stream",
     "text": [
      "{'romeo': 40, 'and': 42, 'juliet': 32, 'act': 1, '2': 2, 'scene': 2, 'ii': 1, 'capulets': 1, 'orchard': 2, 'enter': 1, 'he': 5, 'jests': 1, 'at': 9, 'scars': 1, 'that': 30, 'never': 2, 'felt': 1, 'a': 24, 'wound': 1, 'appears': 1, 'above': 6, 'window': 2, 'but': 18, 'soft': 1, 'what': 11, 'light': 5, 'through': 2, 'yonder': 2, 'breaks': 1, 'it': 22, 'is': 21, 'the': 34, 'east': 1, 'sun': 2, 'arise': 1, 'fair': 4, 'kill': 2, 'envious': 2, 'moon': 4, 'who': 5, 'already': 1, 'sick': 2, 'pale': 1, 'with': 8, 'grief': 2, 'thou': 32, 'her': 14, 'maid': 2, 'art': 7, 'far': 2, 'more': 9, 'than': 6, 'she': 9, 'be': 14, 'not': 18, 'since': 1, 'vestal': 1, 'livery': 1, 'green': 1, 'none': 1, 'fools': 1, 'do': 7, 'wear': 1, 'cast': 1, 'off': 1, 'my': 29, 'lady': 2, 'o': 11, 'love': 24, 'knew': 1, 'were': 9, 'speaks': 3, 'yet': 9, 'says': 1, 'nothing': 1, 'of': 20, 'eye': 2, 'discourses': 1, 'i': 61, 'will': 8, 'answer': 1, 'am': 7, 'too': 8, 'bold': 1, 'tis': 4, 'to': 34, 'me': 18, 'two': 1, 'fairest': 1, 'stars': 2, 'in': 13, 'all': 6, 'heaven': 3, 'having': 1, 'some': 3, 'business': 1, 'entreat': 1, 'eyes': 6, 'twinkle': 1, 'their': 6, 'spheres': 1, 'till': 4, 'they': 5, 'return': 1, 'if': 12, 'there': 3, 'head': 2, 'brightness': 1, 'cheek': 4, 'would': 16, 'shame': 1, 'those': 2, 'as': 12, 'daylight': 1, 'doth': 2, 'lamp': 1, 'airy': 2, 'region': 1, 'stream': 1, 'so': 10, 'bright': 2, 'birds': 1, 'sing': 1, 'think': 2, 'night': 16, 'see': 2, 'how': 5, 'leans': 1, 'upon': 5, 'hand': 4, 'glove': 1, 'might': 1, 'touch': 1, 'ay': 2, 'speak': 4, 'again': 6, 'angel': 1, 'for': 12, 'glorious': 1, 'this': 9, 'being': 2, 'oer': 1, 'winged': 1, 'messenger': 1, 'unto': 1, 'whiteupturned': 1, 'wondering': 1, 'mortals': 1, 'fall': 1, 'back': 4, 'gaze': 1, 'on': 4, 'him': 2, 'when': 2, 'bestrides': 1, 'lazypacing': 1, 'clouds': 1, 'sails': 1, 'bosom': 1, 'air': 1, 'wherefore': 2, 'deny': 2, 'thy': 20, 'father': 1, 'refuse': 1, 'name': 11, 'or': 4, 'wilt': 6, 'sworn': 1, 'ill': 8, 'no': 6, 'longer': 1, 'capulet': 1, 'aside': 1, 'shall': 6, 'hear': 2, 'enemy': 2, 'thyself': 1, 'though': 1, 'montague': 5, 'whats': 2, 'nor': 5, 'foot': 2, 'arm': 1, 'face': 2, 'any': 4, 'other': 4, 'part': 2, 'belonging': 1, 'man': 2, 'which': 7, 'we': 2, 'call': 3, 'rose': 1, 'by': 14, 'smell': 1, 'sweet': 8, 'calld': 1, 'retain': 1, 'dear': 7, 'perfection': 1, 'owes': 1, 'without': 1, 'title': 1, 'doff': 1, 'thee': 24, 'take': 3, 'myself': 2, 'word': 4, 'new': 1, 'baptized': 1, 'henceforth': 1, 'thus': 1, 'bescreend': 1, 'stumblest': 1, 'counsel': 2, 'know': 3, 'tell': 3, 'saint': 2, 'hateful': 1, 'because': 1, 'an': 2, 'had': 1, 'written': 1, 'tear': 2, 'ears': 2, 'have': 13, 'drunk': 1, 'hundred': 1, 'words': 2, 'tongues': 2, 'utterance': 1, 'sound': 2, 'neither': 1, 'either': 1, 'dislike': 1, 'camest': 1, 'hither': 1, 'walls': 2, 'are': 3, 'high': 1, 'hard': 1, 'climb': 1, 'place': 2, 'death': 2, 'considering': 1, 'kinsmen': 2, 'find': 2, 'here': 4, 'loves': 3, 'wings': 1, 'did': 3, 'oerperch': 1, 'these': 2, 'stony': 1, 'limits': 1, 'cannot': 1, 'hold': 1, 'out': 2, 'can': 2, 'dares': 1, 'attempt': 1, 'therefore': 3, 'let': 3, 'murder': 1, 'alack': 1, 'lies': 2, 'peril': 1, 'thine': 2, 'twenty': 2, 'swords': 1, 'look': 1, 'proof': 1, 'against': 1, 'enmity': 1, 'world': 3, 'saw': 1, 'nights': 1, 'cloak': 1, 'hide': 1, 'from': 4, 'sight': 1, 'them': 1, 'life': 1, 'better': 1, 'ended': 1, 'hate': 1, 'prorogued': 1, 'wanting': 1, 'whose': 1, 'direction': 1, 'foundst': 1, 'first': 1, 'prompt': 1, 'inquire': 1, 'lent': 2, 'pilot': 1, 'wert': 1, 'vast': 1, 'shore': 1, 'washd': 1, 'farthest': 1, 'sea': 2, 'adventure': 1, 'such': 2, 'merchandise': 1, 'knowst': 1, 'mask': 1, 'else': 3, 'maiden': 1, 'blush': 1, 'bepaint': 1, 'hast': 1, 'heard': 1, 'tonight': 3, 'fain': 3, 'dwell': 2, 'form': 1, 'spoke': 1, 'farewell': 1, 'compliment': 1, 'dost': 2, 'say': 5, 'swearst': 1, 'mayst': 2, 'prove': 4, 'false': 1, 'lovers': 2, 'perjuries': 1, 'then': 2, 'jove': 1, 'laughs': 1, 'gentle': 1, 'pronounce': 1, 'faithfully': 1, 'thinkst': 1, 'quickly': 1, 'won': 1, 'frown': 1, 'perverse': 1, 'nay': 1, 'woo': 1, 'truth': 1, 'fond': 1, 'havior': 1, 'trust': 1, 'gentleman': 1, 'true': 3, 'cunning': 1, 'strange': 2, 'should': 2, 'been': 1, 'must': 1, 'confess': 1, 'overheardst': 1, 'ere': 2, 'was': 1, 'ware': 1, 'passion': 1, 'pardon': 1, 'impute': 1, 'yielding': 1, 'dark': 1, 'hath': 1, 'discovered': 1, 'blessed': 3, 'swear': 6, 'tips': 1, 'silver': 1, 'fruittree': 1, 'tops': 1, 'inconstant': 1, 'monthly': 1, 'changes': 1, 'circled': 1, 'orb': 1, 'lest': 1, 'likewise': 1, 'variable': 1, 'gracious': 1, 'self': 1, 'god': 1, 'idolatry': 1, 'believe': 1, 'hearts': 1, 'well': 2, 'although': 1, 'joy': 2, 'contract': 1, 'rash': 1, 'unadvised': 1, 'sudden': 1, 'like': 3, 'lightning': 1, 'cease': 2, 'one': 2, 'lightens': 1, 'good': 9, 'bud': 1, 'summers': 1, 'ripening': 1, 'breath': 1, 'may': 2, 'beauteous': 1, 'flower': 1, 'next': 1, 'meet': 1, 'repose': 1, 'rest': 2, 'come': 5, 'heart': 1, 'within': 5, 'breast': 2, 'leave': 2, 'unsatisfied': 1, 'satisfaction': 1, 'canst': 1, 'exchange': 1, 'faithful': 1, 'vow': 1, 'mine': 3, 'gave': 1, 'before': 1, 'didst': 1, 'request': 1, 'give': 3, 'wouldst': 1, 'withdraw': 1, 'purpose': 2, 'frank': 1, 'wish': 1, 'thing': 1, 'bounty': 1, 'boundless': 1, 'deep': 1, 'both': 1, 'infinite': 1, 'nurse': 4, 'calls': 2, 'noise': 1, 'adieu': 1, 'anon': 1, 'stay': 2, 'little': 2, 'exit': 4, 'afeard': 1, 'dream': 1, 'flatteringsweet': 1, 'substantial': 1, 'reenter': 2, 'three': 1, 'indeed': 1, 'bent': 1, 'honourable': 1, 'marriage': 1, 'send': 3, 'tomorrow': 3, 'procure': 1, 'where': 2, 'time': 1, 'perform': 1, 'rite': 1, 'fortunes': 1, 'lay': 1, 'follow': 1, 'lord': 1, 'throughout': 1, 'madam': 2, 'anonbut': 1, 'meanst': 1, 'beseech': 1, 'suit': 1, 'thrive': 1, 'soul': 2, 'thousand': 2, 'times': 2, 'worse': 1, 'want': 1, 'goes': 1, 'toward': 2, 'schoolboys': 1, 'books': 1, 'school': 1, 'heavy': 1, 'looks': 1, 'retiring': 1, 'hist': 2, 'falconers': 1, 'voice': 1, 'lure': 1, 'tasselgentle': 1, 'bondage': 1, 'hoarse': 2, 'aloud': 1, 'cave': 1, 'echo': 1, 'make': 1, 'tongue': 1, 'repetition': 1, 'romeos': 1, 'silversweet': 1, 'softest': 1, 'music': 1, 'attending': 1, 'oclock': 1, 'hour': 1, 'nine': 1, 'fail': 1, 'years': 1, 'forgot': 1, 'why': 1, 'stand': 2, 'remember': 1, 'forget': 2, 'still': 3, 'remembering': 1, 'company': 1, 'forgetting': 1, 'home': 1, 'almost': 1, 'morning': 1, 'gone': 1, 'further': 1, 'wantons': 1, 'bird': 2, 'lets': 1, 'hop': 1, 'poor': 1, 'prisoner': 1, 'his': 3, 'twisted': 1, 'gyves': 1, 'silk': 1, 'thread': 1, 'plucks': 1, 'lovingjealous': 1, 'liberty': 1, 'much': 1, 'cherishing': 1, 'parting': 1, 'sorrow': 1, 'morrow': 1, 'sleep': 2, 'peace': 2, 'hence': 1, 'ghostly': 1, 'fathers': 1, 'cell': 1, 'help': 1, 'crave': 1, 'hap': 1}\n"
     ]
    }
   ],
   "source": [
    "#advance text parsng\n",
    "import string\n",
    "\n",
    "fhand=open('romeo-full.txt')\n",
    "counts=dict()\n",
    "for line in fhand:\n",
    "    line=line.translate(str.maketrans('','',string.punctuation))#remove punctuationt note: the code in book works in 2 not in 3\n",
    "    line=line.lower()#all to lower case\n",
    "    words=line.split()\n",
    "    for word in words:\n",
    "        if word not in counts:\n",
    "            counts[word]=1\n",
    "        else:\n",
    "            counts[word]+=1\n",
    "print(counts)"
   ]
  },
  {
   "cell_type": "code",
   "execution_count": 46,
   "metadata": {},
   "outputs": [
    {
     "name": "stdout",
     "output_type": "stream",
     "text": [
      "Enter a file name:mbox-short.txt\n",
      "{'Sat': 1, 'Fri': 20, 'Thu': 6}\n"
     ]
    }
   ],
   "source": [
    "#exercise 9.2\n",
    "inp=input('Enter a file name:')\n",
    "fhand=open('mbox-short.txt')\n",
    "d=dict()\n",
    "t=list()\n",
    "for line in fhand:\n",
    "    if line.startswith('From:'):\n",
    "        continue\n",
    "    if line.startswith('From'):\n",
    "        line=line.rstrip()\n",
    "        words=line.split()\n",
    "        #print(words)\n",
    "        t.append(words[2])\n",
    "#print(t)\n",
    "for keys in t: \n",
    "    d[keys]=d.get(keys,0)+1\n",
    "                   \n",
    "print(d)"
   ]
  },
  {
   "cell_type": "code",
   "execution_count": 58,
   "metadata": {},
   "outputs": [
    {
     "name": "stdout",
     "output_type": "stream",
     "text": [
      "Enter a file name:mbox-short.txt\n",
      "{'stephen.marquard@uct.ac.za': 2, 'louis@media.berkeley.edu': 3, 'zqian@umich.edu': 4, 'rjlowe@iupui.edu': 2, 'cwen@iupui.edu': 5, 'gsilver@umich.edu': 3, 'wagnermr@iupui.edu': 1, 'antranig@caret.cam.ac.uk': 1, 'gopal.ramasammycook@gmail.com': 1, 'david.horwitz@uct.ac.za': 4, 'ray@media.berkeley.edu': 1}\n"
     ]
    }
   ],
   "source": [
    "#exercise 9.3\n",
    "inp=input('Enter a file name:')\n",
    "fhand=open(inp)\n",
    "d=dict()\n",
    "t=list()\n",
    "for line in fhand:\n",
    "    if line.startswith('From:'):\n",
    "        continue\n",
    "    if line.startswith('From'):\n",
    "        line=line.rstrip()\n",
    "        words=line.split()\n",
    "        #print(words)\n",
    "        t.append(words[1])\n",
    "#print(t)\n",
    "for keys in t: \n",
    "    d[keys]=d.get(keys,0)+1\n",
    "                   \n",
    "print(d)"
   ]
  },
  {
   "cell_type": "code",
   "execution_count": 59,
   "metadata": {},
   "outputs": [
    {
     "name": "stdout",
     "output_type": "stream",
     "text": [
      "Enter a file name:mbox.txt\n",
      "zqian@umich.edu 195\n"
     ]
    }
   ],
   "source": [
    "#exercise 9.4\n",
    "inp=input('Enter a file name:')\n",
    "fhand=open(inp)\n",
    "d=dict()\n",
    "t=list()\n",
    "for line in fhand:\n",
    "    if line.startswith('From:'):\n",
    "        continue\n",
    "    if line.startswith('From'):\n",
    "        line=line.rstrip()\n",
    "        words=line.split()\n",
    "        #print(words)\n",
    "        t.append(words[1])\n",
    "#print(t)\n",
    "for keys in t: \n",
    "    d[keys]=d.get(keys,0)+1\n",
    "               \n",
    "bigword=None\n",
    "bigcount=None\n",
    "for mail,count in d.items():\n",
    "    if bigcount is None or count > bigcount:\n",
    "        bigcount=count\n",
    "        bigword=mail\n",
    "        \n",
    "print(bigword,bigcount)"
   ]
  },
  {
   "cell_type": "code",
   "execution_count": 64,
   "metadata": {},
   "outputs": [
    {
     "name": "stdout",
     "output_type": "stream",
     "text": [
      "Enter a file name:mbox-short.txt\n",
      "{'@uct.ac.za': 6, '@media.berkeley.edu': 4, '@umich.edu': 7, '@iupui.edu': 8, '@caret.cam.ac.uk': 1, '@gmail.com': 1}\n"
     ]
    }
   ],
   "source": [
    "#exercise 9.5\n",
    "inp=input('Enter a file name:')\n",
    "fhand=open(inp)\n",
    "d=dict()\n",
    "t=list()\n",
    "for line in fhand:\n",
    "    if line.startswith('From:'):\n",
    "        continue\n",
    "    if line.startswith('From'):\n",
    "        line=line.rstrip()\n",
    "        words=line.split()\n",
    "        #print(words)\n",
    "        t.append(words[1])\n",
    "host=dict()\n",
    "for mail in t:\n",
    "    at=mail.find('@')\n",
    "    domain=mail[at:]\n",
    "    host[domain]=host.get(domain,0)+1\n",
    "print(host)"
   ]
  }
 ],
 "metadata": {
  "kernelspec": {
   "display_name": "Python 3",
   "language": "python",
   "name": "python3"
  },
  "language_info": {
   "codemirror_mode": {
    "name": "ipython",
    "version": 3
   },
   "file_extension": ".py",
   "mimetype": "text/x-python",
   "name": "python",
   "nbconvert_exporter": "python",
   "pygments_lexer": "ipython3",
   "version": "3.7.6"
  }
 },
 "nbformat": 4,
 "nbformat_minor": 4
}
