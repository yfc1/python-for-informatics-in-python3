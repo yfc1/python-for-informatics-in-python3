{
 "cells": [
  {
   "cell_type": "code",
   "execution_count": 3,
   "metadata": {},
   "outputs": [
    {
     "name": "stdout",
     "output_type": "stream",
     "text": [
      "Enter a number:\n",
      "4\n",
      "4.0\n",
      "Enter a number:\n",
      "5\n",
      "5.0\n",
      "Enter a number:\n",
      "7\n",
      "7.0\n",
      "Enter a number:\n",
      "bad data\n",
      "Invalid input\n",
      "Enter a number:\n",
      "done\n",
      "16.0 3 5.333333333333333\n"
     ]
    }
   ],
   "source": [
    "count=0\n",
    "total=0\n",
    "while True:\n",
    "    inp=input('Enter a number:\\n')\n",
    "    if inp=='done':\n",
    "        break\n",
    "    try:\n",
    "        num=float(inp)\n",
    "        print(num)\n",
    "        total=total+num\n",
    "        count=count+1\n",
    "    except:\n",
    "        print('Invalid input')\n",
    "    \n",
    "\n",
    "print(total,count,total/count)\n"
   ]
  },
  {
   "cell_type": "code",
   "execution_count": 5,
   "metadata": {},
   "outputs": [
    {
     "name": "stdout",
     "output_type": "stream",
     "text": [
      "Enter a number:\n",
      "4\n",
      "4.0\n",
      "Enter a number:\n",
      "5\n",
      "5.0\n",
      "Enter a number:\n",
      "bad data\n",
      "Invalid input\n",
      "Enter a number:\n",
      "7\n",
      "7.0\n",
      "Enter a number:\n",
      "done\n",
      "max: 7.0\n",
      "min 4.0\n"
     ]
    }
   ],
   "source": [
    "largest=None\n",
    "smallest=None\n",
    "while True:\n",
    "    inp=input('Enter a number:\\n')\n",
    "    if inp=='done':\n",
    "        break\n",
    "    try:\n",
    "        num=float(inp)\n",
    "        print(num)\n",
    "    except:\n",
    "        print('Invalid input')\n",
    "    if smallest is None or num<smallest:\n",
    "        smallest=num\n",
    "    if largest is None or num>largest:\n",
    "        largest=num\n",
    "    \n",
    "\n",
    "print(\"max:\",largest)\n",
    "print('min',smallest)\n"
   ]
  },
  {
   "cell_type": "code",
   "execution_count": null,
   "metadata": {},
   "outputs": [],
   "source": []
  }
 ],
 "metadata": {
  "kernelspec": {
   "display_name": "Python 3",
   "language": "python",
   "name": "python3"
  },
  "language_info": {
   "codemirror_mode": {
    "name": "ipython",
    "version": 3
   },
   "file_extension": ".py",
   "mimetype": "text/x-python",
   "name": "python",
   "nbconvert_exporter": "python",
   "pygments_lexer": "ipython3",
   "version": "3.7.6"
  }
 },
 "nbformat": 4,
 "nbformat_minor": 4
}
