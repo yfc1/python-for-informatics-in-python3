{
 "cells": [
  {
   "cell_type": "code",
   "execution_count": 2,
   "metadata": {},
   "outputs": [
    {
     "name": "stdout",
     "output_type": "stream",
     "text": [
      "Enter your name:\n",
      "Chuck\n"
     ]
    }
   ],
   "source": [
    "#exercise 2.2\n",
    "name=input(\"Enter your name:\\n\")"
   ]
  },
  {
   "cell_type": "code",
   "execution_count": 5,
   "metadata": {},
   "outputs": [
    {
     "name": "stdout",
     "output_type": "stream",
     "text": [
      "Hello Chuck\n"
     ]
    }
   ],
   "source": [
    "print('Hello',name)"
   ]
  },
  {
   "cell_type": "code",
   "execution_count": 6,
   "metadata": {},
   "outputs": [
    {
     "name": "stdout",
     "output_type": "stream",
     "text": [
      "Enter your name:\n",
      "Chuck\n",
      "Hello Chuck\n"
     ]
    }
   ],
   "source": [
    "name=input(\"Enter your name:\\n\")\n",
    "print('Hello',name)"
   ]
  },
  {
   "cell_type": "code",
   "execution_count": 8,
   "metadata": {},
   "outputs": [
    {
     "name": "stdout",
     "output_type": "stream",
     "text": [
      "Enter hours:\n",
      "35\n",
      "Enter rate:\n",
      "2.75\n",
      "96.25\n"
     ]
    }
   ],
   "source": [
    "#exercise 2.3\n",
    "hour=input(\"Enter hours:\\n\")\n",
    "rate=input(\"Enter rate:\\n\")\n",
    "pay=int(hour)*float(rate)\n",
    "print(pay)"
   ]
  },
  {
   "cell_type": "code",
   "execution_count": 9,
   "metadata": {},
   "outputs": [],
   "source": [
    "#exercise 2.4 note:the original book use python2 but here I use python 3. I am trying to compare the difference with python 2.\n",
    "width=17\n",
    "height=12.0"
   ]
  },
  {
   "cell_type": "code",
   "execution_count": 10,
   "metadata": {},
   "outputs": [
    {
     "data": {
      "text/plain": [
       "8"
      ]
     },
     "execution_count": 10,
     "metadata": {},
     "output_type": "execute_result"
    }
   ],
   "source": [
    "width//2"
   ]
  },
  {
   "cell_type": "code",
   "execution_count": 11,
   "metadata": {},
   "outputs": [
    {
     "data": {
      "text/plain": [
       "8.0"
      ]
     },
     "execution_count": 11,
     "metadata": {},
     "output_type": "execute_result"
    }
   ],
   "source": [
    "width//2.0"
   ]
  },
  {
   "cell_type": "code",
   "execution_count": 12,
   "metadata": {},
   "outputs": [
    {
     "data": {
      "text/plain": [
       "8.5"
      ]
     },
     "execution_count": 12,
     "metadata": {},
     "output_type": "execute_result"
    }
   ],
   "source": [
    "width/2"
   ]
  },
  {
   "cell_type": "code",
   "execution_count": 13,
   "metadata": {},
   "outputs": [
    {
     "data": {
      "text/plain": [
       "4.0"
      ]
     },
     "execution_count": 13,
     "metadata": {},
     "output_type": "execute_result"
    }
   ],
   "source": [
    "height//3"
   ]
  },
  {
   "cell_type": "code",
   "execution_count": 14,
   "metadata": {},
   "outputs": [
    {
     "data": {
      "text/plain": [
       "4.0"
      ]
     },
     "execution_count": 14,
     "metadata": {},
     "output_type": "execute_result"
    }
   ],
   "source": [
    "height/3"
   ]
  },
  {
   "cell_type": "code",
   "execution_count": 15,
   "metadata": {},
   "outputs": [
    {
     "data": {
      "text/plain": [
       "11"
      ]
     },
     "execution_count": 15,
     "metadata": {},
     "output_type": "execute_result"
    }
   ],
   "source": [
    "1+2*5"
   ]
  },
  {
   "cell_type": "code",
   "execution_count": 17,
   "metadata": {},
   "outputs": [
    {
     "name": "stdout",
     "output_type": "stream",
     "text": [
      "Enter celsius:\n",
      "32\n",
      "89.6\n"
     ]
    }
   ],
   "source": [
    "#exercise 2.5\n",
    "Cel=input('Enter celsius:\\n')\n",
    "Fah=float(Cel)*1.8+32\n",
    "print(Fah)"
   ]
  },
  {
   "cell_type": "code",
   "execution_count": 20,
   "metadata": {},
   "outputs": [
    {
     "name": "stdout",
     "output_type": "stream",
     "text": [
      "Enter hours:\n",
      "45\n",
      "Enter rate:\n",
      "10\n",
      "475.0\n"
     ]
    }
   ],
   "source": [
    "#exercise 3.1\n",
    "hour=input(\"Enter hours:\\n\")\n",
    "rate=input(\"Enter rate:\\n\")\n",
    "if float(hour)<=40:\n",
    "    pay=float(hour)*float(rate)\n",
    "else:\n",
    "    if float(hour)>40:\n",
    "        pay=(float(hour)-40)*(1.5*float(rate))+40*float(rate)\n",
    "    \n",
    "\n",
    "print(pay)"
   ]
  },
  {
   "cell_type": "code",
   "execution_count": 23,
   "metadata": {},
   "outputs": [
    {
     "name": "stdout",
     "output_type": "stream",
     "text": [
      "Enter hours:\n",
      "45\n",
      "Enter rate:\n",
      "10\n",
      "475.0\n"
     ]
    }
   ],
   "source": [
    "#exercise 3.2\n",
    "try:\n",
    "    inp_1=input(\"Enter hours:\\n\")\n",
    "    hour=float(inp_1)\n",
    "    inp_2=input(\"Enter rate:\\n\")\n",
    "    rate=float(inp_2)\n",
    "except:\n",
    "    print('Error, please enter numeric input')\n",
    "if hour<=40:\n",
    "    pay=hour*rate\n",
    "else:\n",
    "    pay=(hour-40)*(1.5*rate)+40*rate\n",
    "    \n",
    "\n",
    "print(pay)"
   ]
  },
  {
   "cell_type": "code",
   "execution_count": 4,
   "metadata": {},
   "outputs": [
    {
     "name": "stdout",
     "output_type": "stream",
     "text": [
      "Enter score:\n",
      "0.75\n",
      "C\n"
     ]
    }
   ],
   "source": [
    "#exercise 3.3\n",
    "try:\n",
    "    inp=input('Enter score:\\n')\n",
    "    score=float(inp)\n",
    "    \n",
    "    if score>1.0:\n",
    "        print('Bad score')\n",
    "    elif score>=0.9:\n",
    "        print('A')\n",
    "    elif score>=0.8:\n",
    "        print('B')         \n",
    "    elif score>=0.7:\n",
    "        print('C')            \n",
    "    elif score>=0.6:\n",
    "        print('D') \n",
    "    elif score<0.6:\n",
    "        print('F')\n",
    "\n",
    "except:\n",
    "    print('Bad score') "
   ]
  }
 ],
 "metadata": {
  "kernelspec": {
   "display_name": "Python 3",
   "language": "python",
   "name": "python3"
  },
  "language_info": {
   "codemirror_mode": {
    "name": "ipython",
    "version": 3
   },
   "file_extension": ".py",
   "mimetype": "text/x-python",
   "name": "python",
   "nbconvert_exporter": "python",
   "pygments_lexer": "ipython3",
   "version": "3.7.6"
  }
 },
 "nbformat": 4,
 "nbformat_minor": 4
}
